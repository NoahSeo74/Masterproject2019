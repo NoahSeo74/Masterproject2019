{
 "cells": [
  {
   "cell_type": "code",
   "execution_count": 18,
   "metadata": {},
   "outputs": [],
   "source": [
    "import pandas as pd\n",
    "import numpy as np \n",
    "from sklearn.model_selection import train_test_split\n",
    "from nltk.corpus import stopwords\n",
    "from nltk.tokenize import word_tokenize\n",
    "from nltk.stem import PorterStemmer\n"
   ]
  },
  {
   "cell_type": "markdown",
   "metadata": {},
   "source": [
    "df = pd.read_csv(r\"C:\\Users\\Noah\\Desktop\\master project\\offensive data(project).csv\")\n",
    "df.head()\n"
   ]
  },
  {
   "cell_type": "code",
   "execution_count": 19,
   "metadata": {},
   "outputs": [
    {
     "data": {
      "text/html": [
       "<div>\n",
       "<style scoped>\n",
       "    .dataframe tbody tr th:only-of-type {\n",
       "        vertical-align: middle;\n",
       "    }\n",
       "\n",
       "    .dataframe tbody tr th {\n",
       "        vertical-align: top;\n",
       "    }\n",
       "\n",
       "    .dataframe thead th {\n",
       "        text-align: right;\n",
       "    }\n",
       "</style>\n",
       "<table border=\"1\" class=\"dataframe\">\n",
       "  <thead>\n",
       "    <tr style=\"text-align: right;\">\n",
       "      <th></th>\n",
       "      <th>Unnamed: 0</th>\n",
       "      <th>count</th>\n",
       "      <th>hate_speech</th>\n",
       "      <th>offensive_language</th>\n",
       "      <th>neither</th>\n",
       "      <th>class</th>\n",
       "      <th>tweet</th>\n",
       "    </tr>\n",
       "  </thead>\n",
       "  <tbody>\n",
       "    <tr>\n",
       "      <td>0</td>\n",
       "      <td>0,3,0,0,3,2,!!! RT @mayasolovely: As a woman y...</td>\n",
       "      <td>NaN</td>\n",
       "      <td>NaN</td>\n",
       "      <td>NaN</td>\n",
       "      <td>NaN</td>\n",
       "      <td>NaN</td>\n",
       "      <td>NaN</td>\n",
       "    </tr>\n",
       "    <tr>\n",
       "      <td>1</td>\n",
       "      <td>1</td>\n",
       "      <td>3</td>\n",
       "      <td>0</td>\n",
       "      <td>3.0</td>\n",
       "      <td>0.0</td>\n",
       "      <td>1.0</td>\n",
       "      <td>!!!!! RT @mleew17: boy dats cold...tyga dwn ba...</td>\n",
       "    </tr>\n",
       "    <tr>\n",
       "      <td>2</td>\n",
       "      <td>2</td>\n",
       "      <td>3</td>\n",
       "      <td>0</td>\n",
       "      <td>3.0</td>\n",
       "      <td>0.0</td>\n",
       "      <td>1.0</td>\n",
       "      <td>!!!!!!! RT @UrKindOfBrand Dawg!!!! RT @80sbaby...</td>\n",
       "    </tr>\n",
       "    <tr>\n",
       "      <td>3</td>\n",
       "      <td>3</td>\n",
       "      <td>3</td>\n",
       "      <td>0</td>\n",
       "      <td>2.0</td>\n",
       "      <td>1.0</td>\n",
       "      <td>1.0</td>\n",
       "      <td>!!!!!!!!! RT @C_G_Anderson: @viva_based she lo...</td>\n",
       "    </tr>\n",
       "    <tr>\n",
       "      <td>4</td>\n",
       "      <td>4,6,0,6,0,1,!!!!!!!!!!!!! RT @ShenikaRoberts: ...</td>\n",
       "      <td>NaN</td>\n",
       "      <td>NaN</td>\n",
       "      <td>NaN</td>\n",
       "      <td>NaN</td>\n",
       "      <td>NaN</td>\n",
       "      <td>NaN</td>\n",
       "    </tr>\n",
       "  </tbody>\n",
       "</table>\n",
       "</div>"
      ],
      "text/plain": [
       "                                          Unnamed: 0 count hate_speech  \\\n",
       "0  0,3,0,0,3,2,!!! RT @mayasolovely: As a woman y...   NaN         NaN   \n",
       "1                                                  1     3           0   \n",
       "2                                                  2     3           0   \n",
       "3                                                  3     3           0   \n",
       "4  4,6,0,6,0,1,!!!!!!!!!!!!! RT @ShenikaRoberts: ...   NaN         NaN   \n",
       "\n",
       "   offensive_language  neither  class  \\\n",
       "0                 NaN      NaN    NaN   \n",
       "1                 3.0      0.0    1.0   \n",
       "2                 3.0      0.0    1.0   \n",
       "3                 2.0      1.0    1.0   \n",
       "4                 NaN      NaN    NaN   \n",
       "\n",
       "                                               tweet  \n",
       "0                                                NaN  \n",
       "1  !!!!! RT @mleew17: boy dats cold...tyga dwn ba...  \n",
       "2  !!!!!!! RT @UrKindOfBrand Dawg!!!! RT @80sbaby...  \n",
       "3  !!!!!!!!! RT @C_G_Anderson: @viva_based she lo...  \n",
       "4                                                NaN  "
      ]
     },
     "execution_count": 19,
     "metadata": {},
     "output_type": "execute_result"
    }
   ],
   "source": [
    "df = pd.read_csv(r\"C:\\Users\\Noah\\Desktop\\master project\\offensive data(project).csv\") \n",
    "df.head()"
   ]
  },
  {
   "cell_type": "code",
   "execution_count": 20,
   "metadata": {},
   "outputs": [
    {
     "name": "stdout",
     "output_type": "stream",
     "text": [
      "9776 train sample\n",
      "2444 validation sample\n",
      "3056 test sample\n"
     ]
    }
   ],
   "source": [
    "train, test = train_test_split(df, test_size=0.2)\n",
    "train, val = train_test_split(train, test_size=0.2)\n",
    "\n",
    "\n",
    "print(len(train),'train sample')\n",
    "print(len(val),'validation sample')\n",
    "print(len(test),'test sample')\n"
   ]
  },
  {
   "cell_type": "code",
   "execution_count": 21,
   "metadata": {},
   "outputs": [
    {
     "name": "stdout",
     "output_type": "stream",
     "text": [
      "                                                   tweet\n",
      "1      !!!!! RT @mleew17: boy dats cold...tyga dwn ba...\n",
      "2      !!!!!!! RT @UrKindOfBrand Dawg!!!! RT @80sbaby...\n",
      "3      !!!!!!!!! RT @C_G_Anderson: @viva_based she lo...\n",
      "4                                                    NaN\n",
      "5                                                    NaN\n",
      "...                                                  ...\n",
      "15271                                                NaN\n",
      "15272                                                NaN\n",
      "15273                                                NaN\n",
      "15274                                                NaN\n",
      "15275          RT @CarterBoy_leake: If you fucked in car\n",
      "\n",
      "[15275 rows x 1 columns]\n"
     ]
    }
   ],
   "source": [
    "subset = df.loc[1:,['tweet']]\n",
    "print(subset)"
   ]
  },
  {
   "cell_type": "code",
   "execution_count": 22,
   "metadata": {},
   "outputs": [
    {
     "name": "stdout",
     "output_type": "stream",
     "text": [
      "['tweet', 'mleew17', 'boy', 'dats', 'cold', '...', 'tyga', 'dwn', '...', 'urkindofbrand', 'dawg', '80sbaby', '...', 'c_g_anderson', 'viva_based', '...', 'nan', 'nan', '...', '...', '15271', 'nan', '15272', 'nan', '15273', 'nan', '15274', 'nan', '15275', 'carterboy_leake', 'fucked', 'car', '15275', 'rows', 'columns']\n"
     ]
    }
   ],
   "source": [
    "stop_words = set(stopwords.words(\"english\"))\n",
    "\n",
    "\n",
    "words = word_tokenize(str(subset))\n",
    "# remove words less than three letters\n",
    "words = [word for word in words if len(word) >= 3]\n",
    "\n",
    "# lower capitalization\n",
    "words = [word.lower() for word in words]\n",
    "\n",
    "filtered_sentence = []\n",
    "\n",
    " # remove stopwords\n",
    "for w in words:\n",
    "    if w not in stop_words:\n",
    "        filtered_sentence.append(w) \n",
    "       \n",
    "\n",
    "\n",
    "print(filtered_sentence)\n"
   ]
  },
  {
   "cell_type": "code",
   "execution_count": 23,
   "metadata": {},
   "outputs": [
    {
     "name": "stdout",
     "output_type": "stream",
     "text": [
      "tweet\n",
      "1\n",
      "!\n",
      "!\n",
      "!\n",
      "!\n",
      "!\n",
      "RT\n",
      "@\n",
      "mleew17\n",
      ":\n",
      "boy\n",
      "dat\n",
      "cold\n",
      "...\n",
      "tyga\n",
      "dwn\n",
      "ba\n",
      "...\n",
      "2\n",
      "!\n",
      "!\n",
      "!\n",
      "!\n",
      "!\n",
      "!\n",
      "!\n",
      "RT\n",
      "@\n",
      "urkindofbrand\n",
      "dawg\n",
      "!\n",
      "!\n",
      "!\n",
      "!\n",
      "RT\n",
      "@\n",
      "80sbabi\n",
      "...\n",
      "3\n",
      "!\n",
      "!\n",
      "!\n",
      "!\n",
      "!\n",
      "!\n",
      "!\n",
      "!\n",
      "!\n",
      "RT\n",
      "@\n",
      "c_g_anderson\n",
      ":\n",
      "@\n",
      "viva_bas\n",
      "she\n",
      "lo\n",
      "...\n",
      "4\n",
      "nan\n",
      "5\n",
      "nan\n",
      "...\n",
      "...\n",
      "15271\n",
      "nan\n",
      "15272\n",
      "nan\n",
      "15273\n",
      "nan\n",
      "15274\n",
      "nan\n",
      "15275\n",
      "RT\n",
      "@\n",
      "carterboy_leak\n",
      ":\n",
      "If\n",
      "you\n",
      "fuck\n",
      "in\n",
      "car\n",
      "[\n",
      "15275\n",
      "row\n",
      "x\n",
      "1\n",
      "column\n",
      "]\n"
     ]
    }
   ],
   "source": [
    "ps = PorterStemmer()\n",
    "\n",
    "words = word_tokenize(str(subset))\n",
    "\n",
    "for w in words:\n",
    "     print(ps.stem(w))"
   ]
  },
  {
   "cell_type": "code",
   "execution_count": 24,
   "metadata": {},
   "outputs": [
    {
     "name": "stdout",
     "output_type": "stream",
     "text": [
      "parts of speech [(' ', 'JJ'), (' ', 'NNP'), (' ', 'NNP'), (' ', 'NNP'), (' ', 'NNP'), (' ', 'NNP'), (' ', 'NNP'), (' ', 'NNP'), (' ', 'NNP'), (' ', 'NNP'), (' ', 'NNP'), (' ', 'NNP'), (' ', 'NNP'), (' ', 'NNP'), (' ', 'NNP'), (' ', 'NNP'), (' ', 'NNP'), (' ', 'NNP'), (' ', 'NNP'), (' ', 'NNP'), (' ', 'NNP'), (' ', 'NNP'), (' ', 'NNP'), (' ', 'NNP'), (' ', 'NNP'), (' ', 'NNP'), (' ', 'NNP'), (' ', 'NNP'), (' ', 'NNP'), (' ', 'NNP'), (' ', 'NNP'), (' ', 'NNP'), (' ', 'NNP'), (' ', 'NNP'), (' ', 'NNP'), (' ', 'NNP'), (' ', 'NNP'), (' ', 'NNP'), (' ', 'NNP'), (' ', 'NNP'), (' ', 'NNP'), (' ', 'NNP'), (' ', 'NNP'), (' ', 'NNP'), (' ', 'NNP'), (' ', 'NNP'), (' ', 'NNP'), (' ', 'NNP'), (' ', 'NNP'), (' ', 'NNP'), (' ', 'NNP'), ('t', 'NN'), ('w', 'NN'), ('e', 'NN'), ('e', 'NN'), ('t', 'NN'), ('\\n', 'VBD'), ('1', 'CD'), (' ', 'NNP'), (' ', 'NNP'), (' ', 'NNP'), (' ', 'NNP'), (' ', 'NNP'), (' ', 'NN'), ('!', '.'), ('!', '.'), ('!', '.'), ('!', '.'), ('!', '.'), (' ', 'JJ'), ('R', 'NNP'), ('T', 'NNP'), (' ', 'NNP'), ('@', 'NNP'), ('m', 'NN'), ('l', 'NN'), ('e', 'NN'), ('e', 'VBP'), ('w', '$'), ('1', 'CD'), ('7', 'CD'), (':', ':'), (' ', 'NN'), ('b', 'NN'), ('o', 'NN'), ('y', 'NN'), (' ', 'NNP'), ('d', 'VBZ'), ('a', 'DT'), ('t', 'JJ'), ('s', 'NN'), (' ', 'NNP'), ('c', 'VBZ'), ('o', 'JJ'), ('l', 'NN'), ('d', 'NN'), ('.', '.'), ('.', '.'), ('.', '.'), ('t', 'JJ'), ('y', 'NN'), ('g', 'VBD'), ('a', 'DT'), (' ', 'JJ'), ('d', 'NN'), ('w', 'NN'), ('n', 'JJ'), (' ', 'NN'), ('b', 'VBD'), ('a', 'DT'), ('.', '.'), ('.', '.'), ('.', '.'), ('\\n', 'JJ'), ('2', 'CD'), (' ', 'JJ'), (' ', 'NNP'), (' ', 'NNP'), (' ', 'NNP'), (' ', 'NNP'), (' ', 'NN'), ('!', '.'), ('!', '.'), ('!', '.'), ('!', '.'), ('!', '.'), ('!', '.'), ('!', '.'), (' ', 'JJ'), ('R', 'NNP'), ('T', 'NNP'), (' ', 'NNP'), ('@', 'NNP'), ('U', 'NNP'), ('r', 'NN'), ('K', 'NNP'), ('i', 'VBZ'), ('n', 'VBP'), ('d', 'JJ'), ('O', 'NNP'), ('f', 'NN'), ('B', 'NNP'), ('r', 'VBZ'), ('a', 'DT'), ('n', 'JJ'), ('d', 'NN'), (' ', 'NNP'), ('D', 'NNP'), ('a', 'DT'), ('w', 'JJ'), ('g', 'NN'), ('!', '.'), ('!', '.'), ('!', '.'), ('!', '.'), (' ', 'JJ'), ('R', 'NNP'), ('T', 'NNP'), (' ', 'NNP'), ('@', 'VBD'), ('8', 'CD'), ('0', 'CD'), ('s', 'NN'), ('b', 'NN'), ('a', 'DT'), ('b', 'NN'), ('y', 'NN'), ('.', '.'), ('.', '.'), ('.', '.'), ('\\n', 'JJ'), ('3', 'CD'), (' ', 'JJ'), (' ', 'NNP'), (' ', 'NNP'), (' ', 'NNP'), (' ', 'NNP'), (' ', 'NN'), ('!', '.'), ('!', '.'), ('!', '.'), ('!', '.'), ('!', '.'), ('!', '.'), ('!', '.'), ('!', '.'), ('!', '.'), (' ', 'JJ'), ('R', 'NNP'), ('T', 'NNP'), (' ', 'NNP'), ('@', 'NNP'), ('C', 'NNP'), ('_', 'NNP'), ('G', 'NNP'), ('_', 'VBZ'), ('A', 'NNP'), ('n', 'JJ'), ('d', 'NN'), ('e', 'NN'), ('r', 'NN'), ('s', 'NN'), ('o', 'JJ'), ('n', 'NN'), (':', ':'), (' ', 'JJ'), ('@', 'NNP'), ('v', 'NN'), ('i', 'NN'), ('v', 'VBP'), ('a', 'DT'), ('_', 'NN'), ('b', 'NN'), ('a', 'DT'), ('s', 'NN'), ('e', 'NN'), ('d', 'NN'), (' ', 'NNP'), ('s', 'NN'), ('h', 'NN'), ('e', 'NN'), (' ', 'NNP'), ('l', 'NN'), ('o', 'NN'), ('.', '.'), ('.', '.'), ('.', '.'), ('\\n', 'JJ'), ('4', 'CD'), (' ', 'JJ'), (' ', 'NNP'), (' ', 'NNP'), (' ', 'NNP'), (' ', 'NNP'), (' ', 'NNP'), (' ', 'NNP'), (' ', 'NNP'), (' ', 'NNP'), (' ', 'NNP'), (' ', 'NNP'), (' ', 'NNP'), (' ', 'NNP'), (' ', 'NNP'), (' ', 'NNP'), (' ', 'NNP'), (' ', 'NNP'), (' ', 'NNP'), (' ', 'NNP'), (' ', 'NNP'), (' ', 'NNP'), (' ', 'NNP'), (' ', 'NNP'), (' ', 'NNP'), (' ', 'NNP'), (' ', 'NNP'), (' ', 'NNP'), (' ', 'NNP'), (' ', 'NNP'), (' ', 'NNP'), (' ', 'NNP'), (' ', 'NNP'), (' ', 'NNP'), (' ', 'NNP'), (' ', 'NNP'), (' ', 'NNP'), (' ', 'NNP'), (' ', 'NNP'), (' ', 'NNP'), (' ', 'NNP'), (' ', 'NNP'), (' ', 'NNP'), (' ', 'NNP'), (' ', 'NNP'), (' ', 'NNP'), (' ', 'NNP'), (' ', 'NNP'), (' ', 'NNP'), (' ', 'NNP'), (' ', 'NNP'), (' ', 'NNP'), (' ', 'NNP'), ('N', 'NNP'), ('a', 'DT'), ('N', 'NNP'), ('\\n', 'NNP'), ('5', 'CD'), (' ', 'NNP'), (' ', 'NNP'), (' ', 'NNP'), (' ', 'NNP'), (' ', 'NNP'), (' ', 'NNP'), (' ', 'NNP'), (' ', 'NNP'), (' ', 'NNP'), (' ', 'NNP'), (' ', 'NNP'), (' ', 'NNP'), (' ', 'NNP'), (' ', 'NNP'), (' ', 'NNP'), (' ', 'NNP'), (' ', 'NNP'), (' ', 'NNP'), (' ', 'NNP'), (' ', 'NNP'), (' ', 'NNP'), (' ', 'NNP'), (' ', 'NNP'), (' ', 'NNP'), (' ', 'NNP'), (' ', 'NNP'), (' ', 'NNP'), (' ', 'NNP'), (' ', 'NNP'), (' ', 'NNP'), (' ', 'NNP'), (' ', 'NNP'), (' ', 'NNP'), (' ', 'NNP'), (' ', 'NNP'), (' ', 'NNP'), (' ', 'NNP'), (' ', 'NNP'), (' ', 'NNP'), (' ', 'NNP'), (' ', 'NNP'), (' ', 'NNP'), (' ', 'NNP'), (' ', 'NNP'), (' ', 'NNP'), (' ', 'NNP'), (' ', 'NNP'), (' ', 'NNP'), (' ', 'NNP'), (' ', 'NNP'), (' ', 'NNP'), (' ', 'NNP'), ('N', 'NNP'), ('a', 'DT'), ('N', 'NNP'), ('\\n', 'NNP'), ('.', '.'), ('.', '.'), ('.', '.'), (' ', 'JJ'), (' ', 'JJ'), (' ', 'NN'), (' ', 'NNP'), (' ', 'NNP'), (' ', 'NNP'), (' ', 'NNP'), (' ', 'NNP'), (' ', 'NNP'), (' ', 'NNP'), (' ', 'NNP'), (' ', 'NNP'), (' ', 'NNP'), (' ', 'NNP'), (' ', 'NNP'), (' ', 'NNP'), (' ', 'NNP'), (' ', 'NNP'), (' ', 'NNP'), (' ', 'NNP'), (' ', 'NNP'), (' ', 'NNP'), (' ', 'NNP'), (' ', 'NNP'), (' ', 'NNP'), (' ', 'NNP'), (' ', 'NNP'), (' ', 'NNP'), (' ', 'NNP'), (' ', 'NNP'), (' ', 'NNP'), (' ', 'NNP'), (' ', 'NNP'), (' ', 'NNP'), (' ', 'NNP'), (' ', 'NNP'), (' ', 'NNP'), (' ', 'NNP'), (' ', 'NNP'), (' ', 'NNP'), (' ', 'NNP'), (' ', 'NNP'), (' ', 'NNP'), (' ', 'NNP'), (' ', 'NNP'), (' ', 'NNP'), (' ', 'NNP'), (' ', 'NNP'), (' ', 'NNP'), (' ', 'NNP'), ('.', '.'), ('.', '.'), ('.', '.'), ('\\n', 'JJ'), ('1', 'CD'), ('5', 'CD'), ('2', 'CD'), ('7', 'CD'), ('1', 'CD'), (' ', 'NN'), (' ', 'NNP'), (' ', 'NNP'), (' ', 'NNP'), (' ', 'NNP'), (' ', 'NNP'), (' ', 'NNP'), (' ', 'NNP'), (' ', 'NNP'), (' ', 'NNP'), (' ', 'NNP'), (' ', 'NNP'), (' ', 'NNP'), (' ', 'NNP'), (' ', 'NNP'), (' ', 'NNP'), (' ', 'NNP'), (' ', 'NNP'), (' ', 'NNP'), (' ', 'NNP'), (' ', 'NNP'), (' ', 'NNP'), (' ', 'NNP'), (' ', 'NNP'), (' ', 'NNP'), (' ', 'NNP'), (' ', 'NNP'), (' ', 'NNP'), (' ', 'NNP'), (' ', 'NNP'), (' ', 'NNP'), (' ', 'NNP'), (' ', 'NNP'), (' ', 'NNP'), (' ', 'NNP'), (' ', 'NNP'), (' ', 'NNP'), (' ', 'NNP'), (' ', 'NNP'), (' ', 'NNP'), (' ', 'NNP'), (' ', 'NNP'), (' ', 'NNP'), (' ', 'NNP'), (' ', 'NNP'), (' ', 'NNP'), (' ', 'NNP'), (' ', 'NNP'), ('N', 'NNP'), ('a', 'DT'), ('N', 'NNP'), ('\\n', 'NNP'), ('1', 'CD'), ('5', 'CD'), ('2', 'CD'), ('7', 'CD'), ('2', 'CD'), (' ', 'NN'), (' ', 'NNP'), (' ', 'NNP'), (' ', 'NNP'), (' ', 'NNP'), (' ', 'NNP'), (' ', 'NNP'), (' ', 'NNP'), (' ', 'NNP'), (' ', 'NNP'), (' ', 'NNP'), (' ', 'NNP'), (' ', 'NNP'), (' ', 'NNP'), (' ', 'NNP'), (' ', 'NNP'), (' ', 'NNP'), (' ', 'NNP'), (' ', 'NNP'), (' ', 'NNP'), (' ', 'NNP'), (' ', 'NNP'), (' ', 'NNP'), (' ', 'NNP'), (' ', 'NNP'), (' ', 'NNP'), (' ', 'NNP'), (' ', 'NNP'), (' ', 'NNP'), (' ', 'NNP'), (' ', 'NNP'), (' ', 'NNP'), (' ', 'NNP'), (' ', 'NNP'), (' ', 'NNP'), (' ', 'NNP'), (' ', 'NNP'), (' ', 'NNP'), (' ', 'NNP'), (' ', 'NNP'), (' ', 'NNP'), (' ', 'NNP'), (' ', 'NNP'), (' ', 'NNP'), (' ', 'NNP'), (' ', 'NNP'), (' ', 'NNP'), (' ', 'NNP'), ('N', 'NNP'), ('a', 'DT'), ('N', 'NNP'), ('\\n', 'NNP'), ('1', 'CD'), ('5', 'CD'), ('2', 'CD'), ('7', 'CD'), ('3', 'CD'), (' ', 'NN'), (' ', 'NNP'), (' ', 'NNP'), (' ', 'NNP'), (' ', 'NNP'), (' ', 'NNP'), (' ', 'NNP'), (' ', 'NNP'), (' ', 'NNP'), (' ', 'NNP'), (' ', 'NNP'), (' ', 'NNP'), (' ', 'NNP'), (' ', 'NNP'), (' ', 'NNP'), (' ', 'NNP'), (' ', 'NNP'), (' ', 'NNP'), (' ', 'NNP'), (' ', 'NNP'), (' ', 'NNP'), (' ', 'NNP'), (' ', 'NNP'), (' ', 'NNP'), (' ', 'NNP'), (' ', 'NNP'), (' ', 'NNP'), (' ', 'NNP'), (' ', 'NNP'), (' ', 'NNP'), (' ', 'NNP'), (' ', 'NNP'), (' ', 'NNP'), (' ', 'NNP'), (' ', 'NNP'), (' ', 'NNP'), (' ', 'NNP'), (' ', 'NNP'), (' ', 'NNP'), (' ', 'NNP'), (' ', 'NNP'), (' ', 'NNP'), (' ', 'NNP'), (' ', 'NNP'), (' ', 'NNP'), (' ', 'NNP'), (' ', 'NNP'), (' ', 'NNP'), ('N', 'NNP'), ('a', 'DT'), ('N', 'NNP'), ('\\n', 'NNP'), ('1', 'CD'), ('5', 'CD'), ('2', 'CD'), ('7', 'CD'), ('4', 'CD'), (' ', 'NN'), (' ', 'NNP'), (' ', 'NNP'), (' ', 'NNP'), (' ', 'NNP'), (' ', 'NNP'), (' ', 'NNP'), (' ', 'NNP'), (' ', 'NNP'), (' ', 'NNP'), (' ', 'NNP'), (' ', 'NNP'), (' ', 'NNP'), (' ', 'NNP'), (' ', 'NNP'), (' ', 'NNP'), (' ', 'NNP'), (' ', 'NNP'), (' ', 'NNP'), (' ', 'NNP'), (' ', 'NNP'), (' ', 'NNP'), (' ', 'NNP'), (' ', 'NNP'), (' ', 'NNP'), (' ', 'NNP'), (' ', 'NNP'), (' ', 'NNP'), (' ', 'NNP'), (' ', 'NNP'), (' ', 'NNP'), (' ', 'NNP'), (' ', 'NNP'), (' ', 'NNP'), (' ', 'NNP'), (' ', 'NNP'), (' ', 'NNP'), (' ', 'NNP'), (' ', 'NNP'), (' ', 'NNP'), (' ', 'NNP'), (' ', 'NNP'), (' ', 'NNP'), (' ', 'NNP'), (' ', 'NNP'), (' ', 'NNP'), (' ', 'NNP'), (' ', 'NNP'), ('N', 'NNP'), ('a', 'DT'), ('N', 'NNP'), ('\\n', 'NNP'), ('1', 'CD'), ('5', 'CD'), ('2', 'CD'), ('7', 'CD'), ('5', 'CD'), (' ', 'NN'), (' ', 'NNP'), (' ', 'NNP'), (' ', 'NNP'), (' ', 'NNP'), (' ', 'NNP'), (' ', 'NNP'), (' ', 'NNP'), (' ', 'NNP'), (' ', 'NNP'), ('R', 'NNP'), ('T', 'NNP'), (' ', 'NNP'), ('@', 'NNP'), ('C', 'NNP'), ('a', 'DT'), ('r', 'NN'), ('t', 'NN'), ('e', 'NN'), ('r', 'NN'), ('B', 'NNP'), ('o', 'NN'), ('y', 'NN'), ('_', 'NNP'), ('l', 'NN'), ('e', 'VBZ'), ('a', 'DT'), ('k', 'NN'), ('e', 'NN'), (':', ':'), (' ', 'NN'), ('I', 'PRP'), ('f', 'VBP'), (' ', 'JJ'), ('y', 'NN'), ('o', 'NN'), ('u', 'JJ'), (' ', 'NNP'), ('f', 'NN'), ('u', 'JJ'), ('c', 'NN'), ('k', 'NN'), ('e', 'FW'), ('d', 'NN'), (' ', 'NN'), ('i', 'NN'), ('n', 'VBP'), (' ', 'NNP'), ('c', 'VBP'), ('a', 'DT'), ('r', 'NN'), ('\\n', 'NNP'), ('\\n', 'NNP'), ('[', 'VBD'), ('1', 'CD'), ('5', 'CD'), ('2', 'CD'), ('7', 'CD'), ('5', 'CD'), (' ', 'NN'), ('r', 'NN'), ('o', 'NN'), ('w', 'NN'), ('s', 'NN'), (' ', 'NNP'), ('x', 'NNP'), (' ', 'VBD'), ('1', 'CD'), (' ', 'NNP'), ('c', 'NN'), ('o', 'NN'), ('l', 'NN'), ('u', 'JJ'), ('m', 'NN'), ('n', 'JJ'), ('s', 'NN'), (']', 'NN')]\n"
     ]
    }
   ],
   "source": [
    "import nltk\n",
    "print(\"parts of speech\", nltk.pos_tag(str(subset)))\n",
    "\n",
    "tagged = nltk.pos_tag(str(subset))\n",
    "def process_content():\n",
    "    try:\n",
    "        for i in str(subset):\n",
    "            \n",
    "            namedEnt = nltk.ne_chunk(tagged)\n",
    "            #namedEnt.draw()\n",
    "    \n",
    "    except Exception as e:\n",
    "              print(str(e))\n",
    "\n",
    "process_content()\n"
   ]
  },
  {
   "cell_type": "code",
   "execution_count": 33,
   "metadata": {},
   "outputs": [
    {
     "name": "stdout",
     "output_type": "stream",
     "text": [
      "parts of speech [(' ', 'JJ'), (' ', 'NNP'), (' ', 'NNP'), (' ', 'NNP'), (' ', 'NNP'), (' ', 'NNP'), (' ', 'NNP'), (' ', 'NNP'), (' ', 'NNP'), (' ', 'NNP'), (' ', 'NNP'), (' ', 'NNP'), (' ', 'NNP'), (' ', 'NNP'), (' ', 'NNP'), (' ', 'NNP'), (' ', 'NNP'), (' ', 'NNP'), (' ', 'NNP'), (' ', 'NNP'), (' ', 'NNP'), (' ', 'NNP'), (' ', 'NNP'), (' ', 'NNP'), (' ', 'NNP'), (' ', 'NNP'), (' ', 'NNP'), (' ', 'NNP'), (' ', 'NNP'), (' ', 'NNP'), (' ', 'NNP'), (' ', 'NNP'), (' ', 'NNP'), (' ', 'NNP'), (' ', 'NNP'), (' ', 'NNP'), (' ', 'NNP'), (' ', 'NNP'), (' ', 'NNP'), (' ', 'NNP'), (' ', 'NNP'), (' ', 'NNP'), (' ', 'NNP'), (' ', 'NNP'), (' ', 'NNP'), (' ', 'NNP'), (' ', 'NNP'), (' ', 'NNP'), (' ', 'NNP'), (' ', 'NNP'), (' ', 'NNP'), ('t', 'NN'), ('w', 'NN'), ('e', 'NN'), ('e', 'NN'), ('t', 'NN'), ('\\n', 'VBD'), ('1', 'CD'), (' ', 'NNP'), (' ', 'NNP'), (' ', 'NNP'), (' ', 'NNP'), (' ', 'NNP'), (' ', 'NN'), ('!', '.'), ('!', '.'), ('!', '.'), ('!', '.'), ('!', '.'), (' ', 'JJ'), ('R', 'NNP'), ('T', 'NNP'), (' ', 'NNP'), ('@', 'NNP'), ('m', 'NN'), ('l', 'NN'), ('e', 'NN'), ('e', 'VBP'), ('w', '$'), ('1', 'CD'), ('7', 'CD'), (':', ':'), (' ', 'NN'), ('b', 'NN'), ('o', 'NN'), ('y', 'NN'), (' ', 'NNP'), ('d', 'VBZ'), ('a', 'DT'), ('t', 'JJ'), ('s', 'NN'), (' ', 'NNP'), ('c', 'VBZ'), ('o', 'JJ'), ('l', 'NN'), ('d', 'NN'), ('.', '.'), ('.', '.'), ('.', '.'), ('t', 'JJ'), ('y', 'NN'), ('g', 'VBD'), ('a', 'DT'), (' ', 'JJ'), ('d', 'NN'), ('w', 'NN'), ('n', 'JJ'), (' ', 'NN'), ('b', 'VBD'), ('a', 'DT'), ('.', '.'), ('.', '.'), ('.', '.'), ('\\n', 'JJ'), ('2', 'CD'), (' ', 'JJ'), (' ', 'NNP'), (' ', 'NNP'), (' ', 'NNP'), (' ', 'NNP'), (' ', 'NN'), ('!', '.'), ('!', '.'), ('!', '.'), ('!', '.'), ('!', '.'), ('!', '.'), ('!', '.'), (' ', 'JJ'), ('R', 'NNP'), ('T', 'NNP'), (' ', 'NNP'), ('@', 'NNP'), ('U', 'NNP'), ('r', 'NN'), ('K', 'NNP'), ('i', 'VBZ'), ('n', 'VBP'), ('d', 'JJ'), ('O', 'NNP'), ('f', 'NN'), ('B', 'NNP'), ('r', 'VBZ'), ('a', 'DT'), ('n', 'JJ'), ('d', 'NN'), (' ', 'NNP'), ('D', 'NNP'), ('a', 'DT'), ('w', 'JJ'), ('g', 'NN'), ('!', '.'), ('!', '.'), ('!', '.'), ('!', '.'), (' ', 'JJ'), ('R', 'NNP'), ('T', 'NNP'), (' ', 'NNP'), ('@', 'VBD'), ('8', 'CD'), ('0', 'CD'), ('s', 'NN'), ('b', 'NN'), ('a', 'DT'), ('b', 'NN'), ('y', 'NN'), ('.', '.'), ('.', '.'), ('.', '.'), ('\\n', 'JJ'), ('3', 'CD'), (' ', 'JJ'), (' ', 'NNP'), (' ', 'NNP'), (' ', 'NNP'), (' ', 'NNP'), (' ', 'NN'), ('!', '.'), ('!', '.'), ('!', '.'), ('!', '.'), ('!', '.'), ('!', '.'), ('!', '.'), ('!', '.'), ('!', '.'), (' ', 'JJ'), ('R', 'NNP'), ('T', 'NNP'), (' ', 'NNP'), ('@', 'NNP'), ('C', 'NNP'), ('_', 'NNP'), ('G', 'NNP'), ('_', 'VBZ'), ('A', 'NNP'), ('n', 'JJ'), ('d', 'NN'), ('e', 'NN'), ('r', 'NN'), ('s', 'NN'), ('o', 'JJ'), ('n', 'NN'), (':', ':'), (' ', 'JJ'), ('@', 'NNP'), ('v', 'NN'), ('i', 'NN'), ('v', 'VBP'), ('a', 'DT'), ('_', 'NN'), ('b', 'NN'), ('a', 'DT'), ('s', 'NN'), ('e', 'NN'), ('d', 'NN'), (' ', 'NNP'), ('s', 'NN'), ('h', 'NN'), ('e', 'NN'), (' ', 'NNP'), ('l', 'NN'), ('o', 'NN'), ('.', '.'), ('.', '.'), ('.', '.'), ('\\n', 'JJ'), ('4', 'CD'), (' ', 'JJ'), (' ', 'NNP'), (' ', 'NNP'), (' ', 'NNP'), (' ', 'NNP'), (' ', 'NNP'), (' ', 'NNP'), (' ', 'NNP'), (' ', 'NNP'), (' ', 'NNP'), (' ', 'NNP'), (' ', 'NNP'), (' ', 'NNP'), (' ', 'NNP'), (' ', 'NNP'), (' ', 'NNP'), (' ', 'NNP'), (' ', 'NNP'), (' ', 'NNP'), (' ', 'NNP'), (' ', 'NNP'), (' ', 'NNP'), (' ', 'NNP'), (' ', 'NNP'), (' ', 'NNP'), (' ', 'NNP'), (' ', 'NNP'), (' ', 'NNP'), (' ', 'NNP'), (' ', 'NNP'), (' ', 'NNP'), (' ', 'NNP'), (' ', 'NNP'), (' ', 'NNP'), (' ', 'NNP'), (' ', 'NNP'), (' ', 'NNP'), (' ', 'NNP'), (' ', 'NNP'), (' ', 'NNP'), (' ', 'NNP'), (' ', 'NNP'), (' ', 'NNP'), (' ', 'NNP'), (' ', 'NNP'), (' ', 'NNP'), (' ', 'NNP'), (' ', 'NNP'), (' ', 'NNP'), (' ', 'NNP'), (' ', 'NNP'), (' ', 'NNP'), ('N', 'NNP'), ('a', 'DT'), ('N', 'NNP'), ('\\n', 'NNP'), ('5', 'CD'), (' ', 'NNP'), (' ', 'NNP'), (' ', 'NNP'), (' ', 'NNP'), (' ', 'NNP'), (' ', 'NNP'), (' ', 'NNP'), (' ', 'NNP'), (' ', 'NNP'), (' ', 'NNP'), (' ', 'NNP'), (' ', 'NNP'), (' ', 'NNP'), (' ', 'NNP'), (' ', 'NNP'), (' ', 'NNP'), (' ', 'NNP'), (' ', 'NNP'), (' ', 'NNP'), (' ', 'NNP'), (' ', 'NNP'), (' ', 'NNP'), (' ', 'NNP'), (' ', 'NNP'), (' ', 'NNP'), (' ', 'NNP'), (' ', 'NNP'), (' ', 'NNP'), (' ', 'NNP'), (' ', 'NNP'), (' ', 'NNP'), (' ', 'NNP'), (' ', 'NNP'), (' ', 'NNP'), (' ', 'NNP'), (' ', 'NNP'), (' ', 'NNP'), (' ', 'NNP'), (' ', 'NNP'), (' ', 'NNP'), (' ', 'NNP'), (' ', 'NNP'), (' ', 'NNP'), (' ', 'NNP'), (' ', 'NNP'), (' ', 'NNP'), (' ', 'NNP'), (' ', 'NNP'), (' ', 'NNP'), (' ', 'NNP'), (' ', 'NNP'), (' ', 'NNP'), ('N', 'NNP'), ('a', 'DT'), ('N', 'NNP'), ('\\n', 'NNP'), ('.', '.'), ('.', '.'), ('.', '.'), (' ', 'JJ'), (' ', 'JJ'), (' ', 'NN'), (' ', 'NNP'), (' ', 'NNP'), (' ', 'NNP'), (' ', 'NNP'), (' ', 'NNP'), (' ', 'NNP'), (' ', 'NNP'), (' ', 'NNP'), (' ', 'NNP'), (' ', 'NNP'), (' ', 'NNP'), (' ', 'NNP'), (' ', 'NNP'), (' ', 'NNP'), (' ', 'NNP'), (' ', 'NNP'), (' ', 'NNP'), (' ', 'NNP'), (' ', 'NNP'), (' ', 'NNP'), (' ', 'NNP'), (' ', 'NNP'), (' ', 'NNP'), (' ', 'NNP'), (' ', 'NNP'), (' ', 'NNP'), (' ', 'NNP'), (' ', 'NNP'), (' ', 'NNP'), (' ', 'NNP'), (' ', 'NNP'), (' ', 'NNP'), (' ', 'NNP'), (' ', 'NNP'), (' ', 'NNP'), (' ', 'NNP'), (' ', 'NNP'), (' ', 'NNP'), (' ', 'NNP'), (' ', 'NNP'), (' ', 'NNP'), (' ', 'NNP'), (' ', 'NNP'), (' ', 'NNP'), (' ', 'NNP'), (' ', 'NNP'), (' ', 'NNP'), ('.', '.'), ('.', '.'), ('.', '.'), ('\\n', 'JJ'), ('1', 'CD'), ('5', 'CD'), ('2', 'CD'), ('7', 'CD'), ('1', 'CD'), (' ', 'NN'), (' ', 'NNP'), (' ', 'NNP'), (' ', 'NNP'), (' ', 'NNP'), (' ', 'NNP'), (' ', 'NNP'), (' ', 'NNP'), (' ', 'NNP'), (' ', 'NNP'), (' ', 'NNP'), (' ', 'NNP'), (' ', 'NNP'), (' ', 'NNP'), (' ', 'NNP'), (' ', 'NNP'), (' ', 'NNP'), (' ', 'NNP'), (' ', 'NNP'), (' ', 'NNP'), (' ', 'NNP'), (' ', 'NNP'), (' ', 'NNP'), (' ', 'NNP'), (' ', 'NNP'), (' ', 'NNP'), (' ', 'NNP'), (' ', 'NNP'), (' ', 'NNP'), (' ', 'NNP'), (' ', 'NNP'), (' ', 'NNP'), (' ', 'NNP'), (' ', 'NNP'), (' ', 'NNP'), (' ', 'NNP'), (' ', 'NNP'), (' ', 'NNP'), (' ', 'NNP'), (' ', 'NNP'), (' ', 'NNP'), (' ', 'NNP'), (' ', 'NNP'), (' ', 'NNP'), (' ', 'NNP'), (' ', 'NNP'), (' ', 'NNP'), (' ', 'NNP'), ('N', 'NNP'), ('a', 'DT'), ('N', 'NNP'), ('\\n', 'NNP'), ('1', 'CD'), ('5', 'CD'), ('2', 'CD'), ('7', 'CD'), ('2', 'CD'), (' ', 'NN'), (' ', 'NNP'), (' ', 'NNP'), (' ', 'NNP'), (' ', 'NNP'), (' ', 'NNP'), (' ', 'NNP'), (' ', 'NNP'), (' ', 'NNP'), (' ', 'NNP'), (' ', 'NNP'), (' ', 'NNP'), (' ', 'NNP'), (' ', 'NNP'), (' ', 'NNP'), (' ', 'NNP'), (' ', 'NNP'), (' ', 'NNP'), (' ', 'NNP'), (' ', 'NNP'), (' ', 'NNP'), (' ', 'NNP'), (' ', 'NNP'), (' ', 'NNP'), (' ', 'NNP'), (' ', 'NNP'), (' ', 'NNP'), (' ', 'NNP'), (' ', 'NNP'), (' ', 'NNP'), (' ', 'NNP'), (' ', 'NNP'), (' ', 'NNP'), (' ', 'NNP'), (' ', 'NNP'), (' ', 'NNP'), (' ', 'NNP'), (' ', 'NNP'), (' ', 'NNP'), (' ', 'NNP'), (' ', 'NNP'), (' ', 'NNP'), (' ', 'NNP'), (' ', 'NNP'), (' ', 'NNP'), (' ', 'NNP'), (' ', 'NNP'), (' ', 'NNP'), ('N', 'NNP'), ('a', 'DT'), ('N', 'NNP'), ('\\n', 'NNP'), ('1', 'CD'), ('5', 'CD'), ('2', 'CD'), ('7', 'CD'), ('3', 'CD'), (' ', 'NN'), (' ', 'NNP'), (' ', 'NNP'), (' ', 'NNP'), (' ', 'NNP'), (' ', 'NNP'), (' ', 'NNP'), (' ', 'NNP'), (' ', 'NNP'), (' ', 'NNP'), (' ', 'NNP'), (' ', 'NNP'), (' ', 'NNP'), (' ', 'NNP'), (' ', 'NNP'), (' ', 'NNP'), (' ', 'NNP'), (' ', 'NNP'), (' ', 'NNP'), (' ', 'NNP'), (' ', 'NNP'), (' ', 'NNP'), (' ', 'NNP'), (' ', 'NNP'), (' ', 'NNP'), (' ', 'NNP'), (' ', 'NNP'), (' ', 'NNP'), (' ', 'NNP'), (' ', 'NNP'), (' ', 'NNP'), (' ', 'NNP'), (' ', 'NNP'), (' ', 'NNP'), (' ', 'NNP'), (' ', 'NNP'), (' ', 'NNP'), (' ', 'NNP'), (' ', 'NNP'), (' ', 'NNP'), (' ', 'NNP'), (' ', 'NNP'), (' ', 'NNP'), (' ', 'NNP'), (' ', 'NNP'), (' ', 'NNP'), (' ', 'NNP'), (' ', 'NNP'), ('N', 'NNP'), ('a', 'DT'), ('N', 'NNP'), ('\\n', 'NNP'), ('1', 'CD'), ('5', 'CD'), ('2', 'CD'), ('7', 'CD'), ('4', 'CD'), (' ', 'NN'), (' ', 'NNP'), (' ', 'NNP'), (' ', 'NNP'), (' ', 'NNP'), (' ', 'NNP'), (' ', 'NNP'), (' ', 'NNP'), (' ', 'NNP'), (' ', 'NNP'), (' ', 'NNP'), (' ', 'NNP'), (' ', 'NNP'), (' ', 'NNP'), (' ', 'NNP'), (' ', 'NNP'), (' ', 'NNP'), (' ', 'NNP'), (' ', 'NNP'), (' ', 'NNP'), (' ', 'NNP'), (' ', 'NNP'), (' ', 'NNP'), (' ', 'NNP'), (' ', 'NNP'), (' ', 'NNP'), (' ', 'NNP'), (' ', 'NNP'), (' ', 'NNP'), (' ', 'NNP'), (' ', 'NNP'), (' ', 'NNP'), (' ', 'NNP'), (' ', 'NNP'), (' ', 'NNP'), (' ', 'NNP'), (' ', 'NNP'), (' ', 'NNP'), (' ', 'NNP'), (' ', 'NNP'), (' ', 'NNP'), (' ', 'NNP'), (' ', 'NNP'), (' ', 'NNP'), (' ', 'NNP'), (' ', 'NNP'), (' ', 'NNP'), (' ', 'NNP'), ('N', 'NNP'), ('a', 'DT'), ('N', 'NNP'), ('\\n', 'NNP'), ('1', 'CD'), ('5', 'CD'), ('2', 'CD'), ('7', 'CD'), ('5', 'CD'), (' ', 'NN'), (' ', 'NNP'), (' ', 'NNP'), (' ', 'NNP'), (' ', 'NNP'), (' ', 'NNP'), (' ', 'NNP'), (' ', 'NNP'), (' ', 'NNP'), (' ', 'NNP'), ('R', 'NNP'), ('T', 'NNP'), (' ', 'NNP'), ('@', 'NNP'), ('C', 'NNP'), ('a', 'DT'), ('r', 'NN'), ('t', 'NN'), ('e', 'NN'), ('r', 'NN'), ('B', 'NNP'), ('o', 'NN'), ('y', 'NN'), ('_', 'NNP'), ('l', 'NN'), ('e', 'VBZ'), ('a', 'DT'), ('k', 'NN'), ('e', 'NN'), (':', ':'), (' ', 'NN'), ('I', 'PRP'), ('f', 'VBP'), (' ', 'JJ'), ('y', 'NN'), ('o', 'NN'), ('u', 'JJ'), (' ', 'NNP'), ('f', 'NN'), ('u', 'JJ'), ('c', 'NN'), ('k', 'NN'), ('e', 'FW'), ('d', 'NN'), (' ', 'NN'), ('i', 'NN'), ('n', 'VBP'), (' ', 'NNP'), ('c', 'VBP'), ('a', 'DT'), ('r', 'NN'), ('\\n', 'NNP'), ('\\n', 'NNP'), ('[', 'VBD'), ('1', 'CD'), ('5', 'CD'), ('2', 'CD'), ('7', 'CD'), ('5', 'CD'), (' ', 'NN'), ('r', 'NN'), ('o', 'NN'), ('w', 'NN'), ('s', 'NN'), (' ', 'NNP'), ('x', 'NNP'), (' ', 'VBD'), ('1', 'CD'), (' ', 'NNP'), ('c', 'NN'), ('o', 'NN'), ('l', 'NN'), ('u', 'JJ'), ('m', 'NN'), ('n', 'JJ'), ('s', 'NN'), (']', 'NN')]\n"
     ]
    },
    {
     "data": {
      "text/plain": [
       "'\\nCC coordinating conjunction\\nCD cardinal digit\\nDT determiner\\nEX existential there (like: “there is” … think of it like “there exists”)\\nFW foreign word\\nIN preposition/subordinating conjunction\\nJJ adjective ‘big’\\nJJR adjective, comparative ‘bigger’\\nJJS adjective, superlative ‘biggest’\\nLS list marker 1)\\nMD modal could, will\\nNN noun, singular ‘desk’\\nNNS noun plural ‘desks’\\nNNP proper noun, singular ‘Harrison’\\nNNPS proper noun, plural ‘Americans’\\nPDT predeterminer ‘all the kids’\\nPOS possessive ending parent’s\\nPRP personal pronoun I, he, she\\nPRP$ possessive pronoun my, his, hers\\nRB adverb very, silently,\\nRBR adverb, comparative better\\nRBS adverb, superlative best\\nRP particle give up\\nTO, to go ‘to’ the store.\\nUH interjection, errrrrrrrm\\nVB verb, base form take\\nVBD verb, past tense took\\nVBG verb, gerund/present participle taking\\nVBN verb, past participle taken\\nVBP verb, sing. present, non-3d take\\nVBZ verb, 3rd person sing. present takes\\nWDT wh-determiner which\\nWP wh-pronoun who, what\\nWP$ possessive wh-pronoun whose\\nWRB wh-abverb where, when\\n\\n'"
      ]
     },
     "execution_count": 33,
     "metadata": {},
     "output_type": "execute_result"
    }
   ],
   "source": [
    "import nltk\n",
    "print(\"parts of speech\", nltk.pos_tag(str(subset)))\n",
    "\n",
    "tagged = nltk.pos_tag(str(subset))\n",
    "def process_content():\n",
    "    try:\n",
    "        for i in str(subset):\n",
    "            chunkGram = r\"\"\"Chunk: {<RB.?>*<VB.?>*<NNP>+<NN>?}\"\"\"\n",
    "            chunkParser = nltk.RegexpParser(chunkGram)\n",
    "            chunked = chunkParser.parse(tagged)\n",
    "            \n",
    "           \n",
    "            #chunked.draw()\n",
    "\n",
    "    except Exception as e:\n",
    "         print(str(e))\n",
    "\n",
    "process_content()\n",
    "\n",
    "\"\"\"\n",
    "CC coordinating conjunction\n",
    "CD cardinal digit\n",
    "DT determiner\n",
    "EX existential there (like: “there is” … think of it like “there exists”)\n",
    "FW foreign word\n",
    "IN preposition/subordinating conjunction\n",
    "JJ adjective ‘big’\n",
    "JJR adjective, comparative ‘bigger’\n",
    "JJS adjective, superlative ‘biggest’\n",
    "LS list marker 1)\n",
    "MD modal could, will\n",
    "NN noun, singular ‘desk’\n",
    "NNS noun plural ‘desks’\n",
    "NNP proper noun, singular ‘Harrison’\n",
    "NNPS proper noun, plural ‘Americans’\n",
    "PDT predeterminer ‘all the kids’\n",
    "POS possessive ending parent’s\n",
    "PRP personal pronoun I, he, she\n",
    "PRP$ possessive pronoun my, his, hers\n",
    "RB adverb very, silently,\n",
    "RBR adverb, comparative better\n",
    "RBS adverb, superlative best\n",
    "RP particle give up\n",
    "TO, to go ‘to’ the store.\n",
    "UH interjection, errrrrrrrm\n",
    "VB verb, base form take\n",
    "VBD verb, past tense took\n",
    "VBG verb, gerund/present participle taking\n",
    "VBN verb, past participle taken\n",
    "VBP verb, sing. present, non-3d take\n",
    "VBZ verb, 3rd person sing. present takes\n",
    "WDT wh-determiner which\n",
    "WP wh-pronoun who, what\n",
    "WP$ possessive wh-pronoun whose\n",
    "WRB wh-abverb where, when\n",
    "\n",
    "\"\"\""
   ]
  },
  {
   "cell_type": "code",
   "execution_count": 40,
   "metadata": {},
   "outputs": [
    {
     "name": "stdout",
     "output_type": "stream",
     "text": [
      "                                                   tweet\n",
      "1      !!!!! RT @mleew17: boy dats cold...tyga dwn ba...\n",
      "2      !!!!!!! RT @UrKindOfBrand Dawg!!!! RT @80sbaby...\n",
      "3      !!!!!!!!! RT @C_G_Anderson: @viva_based she lo...\n",
      "4                                                    NaN\n",
      "5                                                    NaN\n",
      "...                                                  ...\n",
      "15271                                                NaN\n",
      "15272                                                NaN\n",
      "15273                                                NaN\n",
      "15274                                                NaN\n",
      "15275          RT @CarterBoy_leake: If you fucked in car\n",
      "\n",
      "[15275 rows x 1 columns]\n"
     ]
    }
   ],
   "source": [
    "from nltk.stem import WordNetLemmatizer\n",
    "\n",
    "#def preprocessing(text):\n",
    "        #text = text.decode(\"utf-8\")\n",
    "lemmatizer = WordNetLemmatizer()\n",
    "\n",
    "#print(lemmatizer.lemmatize(\"better\", pos=\"a\"))\n",
    "\n",
    "words =  lemmatizer.lemmatize(str(subset)) \n",
    "                 #preprocessed_text=' '.join(words)\n",
    "\n",
    "        #return preprocessed_text\n",
    "\n",
    "\n",
    "print (words)"
   ]
  },
  {
   "cell_type": "code",
   "execution_count": null,
   "metadata": {},
   "outputs": [],
   "source": []
  },
  {
   "cell_type": "code",
   "execution_count": null,
   "metadata": {},
   "outputs": [],
   "source": []
  }
 ],
 "metadata": {
  "kernelspec": {
   "display_name": "Python 3",
   "language": "python",
   "name": "python3"
  }
 },
 "nbformat": 4,
 "nbformat_minor": 2
}
